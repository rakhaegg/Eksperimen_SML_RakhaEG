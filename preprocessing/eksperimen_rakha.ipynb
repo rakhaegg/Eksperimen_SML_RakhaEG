{
 "cells": [
  {
   "cell_type": "markdown",
   "id": "a956549b",
   "metadata": {},
   "source": [
    "# **1. Perkenalan Dataset**\n",
    "<br>Notebook ini memanfaatkan berkas `namadataset_raw/demand_history.csv`\n",
    "<br>*Tujuan*: menyiapkan pipeline EDA → pre-processing → feature engineering sebagai fondasi model peramalan permintaan produk."
   ]
  },
  {
   "cell_type": "markdown",
   "id": "5f938f54",
   "metadata": {},
   "source": [
    "# **2. Import Library**"
   ]
  },
  {
   "cell_type": "code",
   "execution_count": null,
   "id": "d74eff65",
   "metadata": {},
   "outputs": [],
   "source": [
    "import numpy as np\n",
    "import pandas as pd\n",
    "import matplotlib.pyplot as plt\n",
    "import seaborn as sns\n",
    "from pathlib import Path\n",
    "import scipy.stats as st\n",
    "\n",
    "from statsmodels.graphics.tsaplots import plot_acf, plot_pacf\n",
    "from statsmodels.tsa.seasonal import STL\n",
    "\n",
    "from sklearn.preprocessing import OneHotEncoder\n",
    "from sklearn.compose import ColumnTransformer"
   ]
  },
  {
   "cell_type": "markdown",
   "id": "8e1087a3",
   "metadata": {},
   "source": [
    "## Konfigurasi Global"
   ]
  },
  {
   "cell_type": "code",
   "execution_count": 2,
   "id": "b1ed9c40",
   "metadata": {},
   "outputs": [],
   "source": [
    "pd.set_option(\"display.max_columns\", None)\n",
    "sns.set_style(\"whitegrid\")\n",
    "\n",
    "RAW_PATH  = Path(\"../namadataset_raw/demand_history.csv\")\n",
    "SAVE_PATH = Path(\"preprocessing/namadataset_preprocessing/clean.csv\")\n",
    "SEED = 42"
   ]
  },
  {
   "cell_type": "markdown",
   "id": "5190b3e8",
   "metadata": {},
   "source": [
    "# **3. Memuat Dataset**"
   ]
  },
  {
   "cell_type": "code",
   "execution_count": 3,
   "id": "afae2bf4",
   "metadata": {},
   "outputs": [
    {
     "name": "stderr",
     "output_type": "stream",
     "text": [
      "C:\\Users\\Rakha\\AppData\\Local\\Temp\\ipykernel_23184\\1993001970.py:1: FutureWarning: The argument 'infer_datetime_format' is deprecated and will be removed in a future version. A strict version of it is now the default, see https://pandas.pydata.org/pdeps/0004-consistent-to-datetime-parsing.html. You can safely remove this argument.\n",
      "  df = pd.read_csv(\n"
     ]
    }
   ],
   "source": [
    "df = pd.read_csv(\n",
    "    RAW_PATH,\n",
    "    parse_dates=[\"Date\"],         \n",
    "    dayfirst=False,\n",
    "    infer_datetime_format=True,\n",
    "    low_memory=False\n",
    ")"
   ]
  },
  {
   "cell_type": "code",
   "execution_count": 4,
   "id": "4531a54a",
   "metadata": {},
   "outputs": [
    {
     "name": "stdout",
     "output_type": "stream",
     "text": [
      "Initial shape : (1048575, 5)\n"
     ]
    },
    {
     "data": {
      "text/html": [
       "<div>\n",
       "<style scoped>\n",
       "    .dataframe tbody tr th:only-of-type {\n",
       "        vertical-align: middle;\n",
       "    }\n",
       "\n",
       "    .dataframe tbody tr th {\n",
       "        vertical-align: top;\n",
       "    }\n",
       "\n",
       "    .dataframe thead th {\n",
       "        text-align: right;\n",
       "    }\n",
       "</style>\n",
       "<table border=\"1\" class=\"dataframe\">\n",
       "  <thead>\n",
       "    <tr style=\"text-align: right;\">\n",
       "      <th></th>\n",
       "      <th>Product_Code</th>\n",
       "      <th>Warehouse</th>\n",
       "      <th>Product_Category</th>\n",
       "      <th>Date</th>\n",
       "      <th>Order_Demand</th>\n",
       "    </tr>\n",
       "  </thead>\n",
       "  <tbody>\n",
       "    <tr>\n",
       "      <th>0</th>\n",
       "      <td>Product_0993</td>\n",
       "      <td>Whse_J</td>\n",
       "      <td>Category_028</td>\n",
       "      <td>2012-07-27</td>\n",
       "      <td>100</td>\n",
       "    </tr>\n",
       "    <tr>\n",
       "      <th>1</th>\n",
       "      <td>Product_0979</td>\n",
       "      <td>Whse_J</td>\n",
       "      <td>Category_028</td>\n",
       "      <td>2012-01-19</td>\n",
       "      <td>500</td>\n",
       "    </tr>\n",
       "    <tr>\n",
       "      <th>2</th>\n",
       "      <td>Product_0979</td>\n",
       "      <td>Whse_J</td>\n",
       "      <td>Category_028</td>\n",
       "      <td>2012-02-03</td>\n",
       "      <td>500</td>\n",
       "    </tr>\n",
       "    <tr>\n",
       "      <th>3</th>\n",
       "      <td>Product_0979</td>\n",
       "      <td>Whse_J</td>\n",
       "      <td>Category_028</td>\n",
       "      <td>2012-02-09</td>\n",
       "      <td>500</td>\n",
       "    </tr>\n",
       "    <tr>\n",
       "      <th>4</th>\n",
       "      <td>Product_0979</td>\n",
       "      <td>Whse_J</td>\n",
       "      <td>Category_028</td>\n",
       "      <td>2012-03-02</td>\n",
       "      <td>500</td>\n",
       "    </tr>\n",
       "  </tbody>\n",
       "</table>\n",
       "</div>"
      ],
      "text/plain": [
       "   Product_Code Warehouse Product_Category       Date Order_Demand\n",
       "0  Product_0993    Whse_J     Category_028 2012-07-27         100 \n",
       "1  Product_0979    Whse_J     Category_028 2012-01-19         500 \n",
       "2  Product_0979    Whse_J     Category_028 2012-02-03         500 \n",
       "3  Product_0979    Whse_J     Category_028 2012-02-09         500 \n",
       "4  Product_0979    Whse_J     Category_028 2012-03-02         500 "
      ]
     },
     "execution_count": 4,
     "metadata": {},
     "output_type": "execute_result"
    }
   ],
   "source": [
    "print(\"Initial shape :\", df.shape)\n",
    "df.head()"
   ]
  },
  {
   "cell_type": "markdown",
   "id": "6e61a62e",
   "metadata": {},
   "source": [
    "# **4. Info & Missing Values** "
   ]
  },
  {
   "cell_type": "markdown",
   "id": "41151a3d",
   "metadata": {},
   "source": [
    "## 4.1 Info & Missing Values"
   ]
  },
  {
   "cell_type": "code",
   "execution_count": 5,
   "id": "d96f4042",
   "metadata": {},
   "outputs": [
    {
     "name": "stdout",
     "output_type": "stream",
     "text": [
      "<class 'pandas.core.frame.DataFrame'>\n",
      "RangeIndex: 1048575 entries, 0 to 1048574\n",
      "Data columns (total 5 columns):\n",
      " #   Column            Non-Null Count    Dtype         \n",
      "---  ------            --------------    -----         \n",
      " 0   Product_Code      1048575 non-null  object        \n",
      " 1   Warehouse         1048575 non-null  object        \n",
      " 2   Product_Category  1048575 non-null  object        \n",
      " 3   Date              1037336 non-null  datetime64[ns]\n",
      " 4   Order_Demand      1048575 non-null  object        \n",
      "dtypes: datetime64[ns](1), object(4)\n",
      "memory usage: 40.0+ MB\n"
     ]
    }
   ],
   "source": [
    "df.info()"
   ]
  },
  {
   "cell_type": "code",
   "execution_count": 6,
   "id": "c0f1b5b4",
   "metadata": {},
   "outputs": [
    {
     "data": {
      "text/plain": [
       "Date    0.010718\n",
       "dtype: float64"
      ]
     },
     "execution_count": 6,
     "metadata": {},
     "output_type": "execute_result"
    }
   ],
   "source": [
    "na = df.isna().mean().sort_values(ascending=False)\n",
    "na[na > 0]"
   ]
  },
  {
   "cell_type": "markdown",
   "id": "f62e775d",
   "metadata": {},
   "source": [
    "## 4.2 Pembersihan Awal"
   ]
  },
  {
   "cell_type": "code",
   "execution_count": 7,
   "id": "753e059e",
   "metadata": {},
   "outputs": [],
   "source": [
    "df_clean = df.copy()"
   ]
  },
  {
   "cell_type": "code",
   "execution_count": 8,
   "id": "83b852a7",
   "metadata": {},
   "outputs": [],
   "source": [
    "def parse_order(x: str) -> int:\n",
    "    \"\"\"\n",
    "    1) Hilangkan spasi\n",
    "    2) Ganti tanda kurung '(123)' --> -123\n",
    "    3) Konversi ke int\n",
    "    \"\"\"\n",
    "    x = str(x).strip()\n",
    "    if x.startswith('(') and x.endswith(')'):\n",
    "        x = '-' + x[1:-1]\n",
    "    return int(x)"
   ]
  },
  {
   "cell_type": "code",
   "execution_count": 9,
   "id": "d63ac894",
   "metadata": {},
   "outputs": [],
   "source": [
    "df_clean[\"Order_Demand\"] = df_clean[\"Order_Demand\"].apply(parse_order)"
   ]
  },
  {
   "cell_type": "code",
   "execution_count": 10,
   "id": "91920fe4",
   "metadata": {},
   "outputs": [],
   "source": [
    "df_clean = df_clean.dropna(subset=[\"Date\"])\n"
   ]
  },
  {
   "cell_type": "code",
   "execution_count": 11,
   "id": "52c955f9",
   "metadata": {},
   "outputs": [
    {
     "data": {
      "text/html": [
       "<div>\n",
       "<style scoped>\n",
       "    .dataframe tbody tr th:only-of-type {\n",
       "        vertical-align: middle;\n",
       "    }\n",
       "\n",
       "    .dataframe tbody tr th {\n",
       "        vertical-align: top;\n",
       "    }\n",
       "\n",
       "    .dataframe thead th {\n",
       "        text-align: right;\n",
       "    }\n",
       "</style>\n",
       "<table border=\"1\" class=\"dataframe\">\n",
       "  <thead>\n",
       "    <tr style=\"text-align: right;\">\n",
       "      <th></th>\n",
       "      <th>Product_Code</th>\n",
       "      <th>Warehouse</th>\n",
       "      <th>Product_Category</th>\n",
       "      <th>Date</th>\n",
       "      <th>Order_Demand</th>\n",
       "    </tr>\n",
       "  </thead>\n",
       "  <tbody>\n",
       "    <tr>\n",
       "      <th>0</th>\n",
       "      <td>Product_0993</td>\n",
       "      <td>Whse_J</td>\n",
       "      <td>Category_028</td>\n",
       "      <td>2012-07-27</td>\n",
       "      <td>100</td>\n",
       "    </tr>\n",
       "    <tr>\n",
       "      <th>1</th>\n",
       "      <td>Product_0979</td>\n",
       "      <td>Whse_J</td>\n",
       "      <td>Category_028</td>\n",
       "      <td>2012-01-19</td>\n",
       "      <td>500</td>\n",
       "    </tr>\n",
       "    <tr>\n",
       "      <th>2</th>\n",
       "      <td>Product_0979</td>\n",
       "      <td>Whse_J</td>\n",
       "      <td>Category_028</td>\n",
       "      <td>2012-02-03</td>\n",
       "      <td>500</td>\n",
       "    </tr>\n",
       "    <tr>\n",
       "      <th>3</th>\n",
       "      <td>Product_0979</td>\n",
       "      <td>Whse_J</td>\n",
       "      <td>Category_028</td>\n",
       "      <td>2012-02-09</td>\n",
       "      <td>500</td>\n",
       "    </tr>\n",
       "    <tr>\n",
       "      <th>4</th>\n",
       "      <td>Product_0979</td>\n",
       "      <td>Whse_J</td>\n",
       "      <td>Category_028</td>\n",
       "      <td>2012-03-02</td>\n",
       "      <td>500</td>\n",
       "    </tr>\n",
       "  </tbody>\n",
       "</table>\n",
       "</div>"
      ],
      "text/plain": [
       "   Product_Code Warehouse Product_Category       Date  Order_Demand\n",
       "0  Product_0993    Whse_J     Category_028 2012-07-27           100\n",
       "1  Product_0979    Whse_J     Category_028 2012-01-19           500\n",
       "2  Product_0979    Whse_J     Category_028 2012-02-03           500\n",
       "3  Product_0979    Whse_J     Category_028 2012-02-09           500\n",
       "4  Product_0979    Whse_J     Category_028 2012-03-02           500"
      ]
     },
     "execution_count": 11,
     "metadata": {},
     "output_type": "execute_result"
    }
   ],
   "source": [
    "df_clean.head()"
   ]
  },
  {
   "cell_type": "markdown",
   "id": "b6f5fa99",
   "metadata": {},
   "source": [
    "## 4.3 Statistik Deskriptif"
   ]
  },
  {
   "cell_type": "code",
   "execution_count": 12,
   "id": "a11a982b",
   "metadata": {},
   "outputs": [
    {
     "name": "stdout",
     "output_type": "stream",
     "text": [
      "count    1.037336e+06\n",
      "mean     4.920153e+03\n",
      "std      2.907840e+04\n",
      "min     -9.990000e+05\n",
      "25%      1.900000e+01\n",
      "50%      3.000000e+02\n",
      "75%      2.000000e+03\n",
      "90%      1.000000e+04\n",
      "95%      2.000000e+04\n",
      "max      4.000000e+06\n",
      "Name: Order_Demand, dtype: float64\n",
      "Skewness  : 31.30\n",
      "Kurtosis  : 1862.18\n"
     ]
    }
   ],
   "source": [
    "desc = df_clean[\"Order_Demand\"].describe(percentiles=[.25,.5,.75,.9,.95])\n",
    "skw  = st.skew(df_clean[\"Order_Demand\"])\n",
    "krt  = st.kurtosis(df_clean[\"Order_Demand\"], fisher=False)  # pearson kurtosis\n",
    "print(desc)\n",
    "print(f\"Skewness  : {skw:.2f}\")\n",
    "print(f\"Kurtosis  : {krt:.2f}\")"
   ]
  },
  {
   "cell_type": "markdown",
   "id": "0d8da646",
   "metadata": {},
   "source": [
    "| Ukuran      | Nilai | Pesan Utama | \n",
    "| ----------- | ----------- | ----------- |\n",
    "| Count      | 1 037 336 baris | Setelah membuang baris bertanggal NA, inilah jumlah record sah.      |\n",
    "| mean | 4.920 | Order rata-rata 4,9 ribu unit per transaksi |\n",
    "| median 50% | 300 | Separuh transaksi hanya ≤ 300 unit |\n",
    "| 25% - 75% | 1.9 -> 2.0 | 50 % terbesar populasi berada di rentang lebar (19 – 2 000) |\n",
    "| 90 % / 95 %\t| 10 000 / 20 000 | Hanya 5 % transaksi yang di atas 20 k unit|\n",
    "| min |  ‑999 000 | Ada record negatif amat besar (kemungkinan kesalahan data atau penandaan retur) |\n",
    "| max | \t 4 000 000 | Ada order empat juta unit—outlier ekstrem |\n",
    "| std |  29 078 | Dispersi sangat tinggi|\n",
    "\n",
    "- skewness 31,3 menandakan skew kanan ekstrem—ekor kanan jauh ber­­tarik\n",
    "- kurtosis 1 862 Distribusi “fat‑tail” parah; outlier jauh lebih sering daripada distribusi normal."
   ]
  },
  {
   "cell_type": "markdown",
   "id": "3ada505d",
   "metadata": {},
   "source": [
    "# **5. Data Preprocessing**"
   ]
  },
  {
   "cell_type": "markdown",
   "id": "d587f295",
   "metadata": {},
   "source": [
    "## 5.1 Buang Nilai Aneh & Outlier Ekstrem"
   ]
  },
  {
   "cell_type": "code",
   "execution_count": 13,
   "id": "de5a8dcf",
   "metadata": {},
   "outputs": [],
   "source": [
    "df_clean = df_clean[df_clean[\"Order_Demand\"] > 0]          # buang negatif & nol\n",
    "df_clean = df_clean[df_clean[\"Order_Demand\"] < 1_000_000]  # buang outlier ekstrem 4 jt; sentinel -999k sudah kena di atas"
   ]
  },
  {
   "cell_type": "markdown",
   "id": "1e825d1d",
   "metadata": {},
   "source": [
    "## 5.2 Winsorize p99"
   ]
  },
  {
   "cell_type": "code",
   "execution_count": 14,
   "id": "75888930",
   "metadata": {},
   "outputs": [],
   "source": [
    "p99 = df_clean[\"Order_Demand\"].quantile(0.99)\n",
    "df_clean[\"Order_Demand\"] = np.where(df_clean[\"Order_Demand\"] > p99, p99, df_clean[\"Order_Demand\"])"
   ]
  },
  {
   "cell_type": "markdown",
   "id": "d1a0208a",
   "metadata": {},
   "source": [
    "## 5.3 Transformasi Log"
   ]
  },
  {
   "cell_type": "code",
   "execution_count": 15,
   "id": "ce9de1e2",
   "metadata": {},
   "outputs": [],
   "source": [
    "df_clean[\"Log_Demand\"] = np.log1p(df_clean[\"Order_Demand\"])"
   ]
  },
  {
   "cell_type": "markdown",
   "id": "899fb1c8",
   "metadata": {},
   "source": [
    "## 5.4 Fitur Kalendar"
   ]
  },
  {
   "cell_type": "code",
   "execution_count": 16,
   "id": "2159b2be",
   "metadata": {},
   "outputs": [],
   "source": [
    "df_clean[\"Date\"] = pd.to_datetime(df_clean[\"Date\"])\n",
    "df_clean = df_clean.sort_values([\"Product_Code\", \"Date\"])\n",
    "df_clean[\"day_of_week\"]  = df_clean[\"Date\"].dt.dayofweek\n",
    "df_clean[\"week_of_year\"] = df_clean[\"Date\"].dt.isocalendar().week.astype(int)\n",
    "df_clean[\"month\"]        = df_clean[\"Date\"].dt.month\n",
    "df_clean[\"year\"]         = df_clean[\"Date\"].dt.year"
   ]
  },
  {
   "cell_type": "markdown",
   "id": "d4fa0118",
   "metadata": {},
   "source": [
    "## 5.5 Trend & Seansonality Ringkas"
   ]
  },
  {
   "cell_type": "code",
   "execution_count": 17,
   "id": "f4eb8772",
   "metadata": {},
   "outputs": [
    {
     "data": {
      "image/png": "[encoded data removed]",
      "text/plain": [
       "<Figure size 1400x400 with 1 Axes>"
      ]
     },
     "metadata": {},
     "output_type": "display_data"
    }
   ],
   "source": [
    "daily = df_clean.groupby(\"Date\")[\"Order_Demand\"].sum()\n",
    "\n",
    "plt.figure(figsize=(14,4))\n",
    "daily.plot()\n",
    "plt.title(\"Total Demand Harian\")\n",
    "plt.ylabel(\"Unit\")\n",
    "plt.show()"
   ]
  },
  {
   "cell_type": "code",
   "execution_count": 18,
   "id": "08afb527",
   "metadata": {},
   "outputs": [
    {
     "ename": "NameError",
     "evalue": "name 'STL' is not defined",
     "output_type": "error",
     "traceback": [
      "\u001b[31m---------------------------------------------------------------------------\u001b[39m",
      "\u001b[31mNameError\u001b[39m                                 Traceback (most recent call last)",
      "\u001b[36mCell\u001b[39m\u001b[36m \u001b[39m\u001b[32mIn[18]\u001b[39m\u001b[32m, line 1\u001b[39m\n\u001b[32m----> \u001b[39m\u001b[32m1\u001b[39m stl = \u001b[43mSTL\u001b[49m(np.log1p(daily), period=\u001b[32m7\u001b[39m)\n\u001b[32m      2\u001b[39m res = stl.fit()\n\u001b[32m      3\u001b[39m res.plot().set_size_inches(\u001b[32m12\u001b[39m,\u001b[32m8\u001b[39m)\n",
      "\u001b[31mNameError\u001b[39m: name 'STL' is not defined"
     ]
    }
   ],
   "source": [
    "stl = STL(np.log1p(daily), period=7)\n",
    "res = stl.fit()\n",
    "res.plot().set_size_inches(12,8)\n",
    "plt.tight_layout()"
   ]
  },
  {
   "cell_type": "markdown",
   "id": "ff61e726",
   "metadata": {},
   "source": [
    "# **6. Feature Engineering**"
   ]
  },
  {
   "cell_type": "markdown",
   "id": "cf746b65",
   "metadata": {},
   "source": [
    "## 6.1 Lag & Rolling Feature"
   ]
  },
  {
   "cell_type": "code",
   "execution_count": null,
   "id": "5f41b54e",
   "metadata": {},
   "outputs": [],
   "source": [
    "group = df_clean.groupby(\"Product_Code\")\n",
    "\n",
    "for lag in [1, 7, 28]:\n",
    "    df_clean[f\"lag_{lag}\"] = group[\"Log_Demand\"].shift(lag)\n",
    "\n",
    "for win in [7, 28]:\n",
    "    df_clean[f\"roll_mean_{win}\"] = group[\"Log_Demand\"].shift(1).rolling(win).mean()\n"
   ]
  },
  {
   "cell_type": "code",
   "execution_count": null,
   "id": "03fa7cca",
   "metadata": {},
   "outputs": [
    {
     "name": "stdout",
     "output_type": "stream",
     "text": [
      "After lag/rolling: (943504, 15)\n"
     ]
    }
   ],
   "source": [
    "df_clean = df_clean.dropna().reset_index(drop=True)\n",
    "print(\"After lag/rolling:\", df_clean.shape)"
   ]
  },
  {
   "cell_type": "markdown",
   "id": "45fb2527",
   "metadata": {},
   "source": [
    "## 6.2 Encoding Kategorikal"
   ]
  },
  {
   "cell_type": "code",
   "execution_count": null,
   "id": "bfd99294",
   "metadata": {},
   "outputs": [],
   "source": [
    "cat_cols  = [\"Product_Category\", \"Warehouse\", \"day_of_week\"]\n",
    "num_cols  = [c for c in df.columns if c.startswith((\"lag_\", \"roll_mean_\"))]\n",
    "target    = \"Log_Demand\""
   ]
  },
  {
   "cell_type": "code",
   "execution_count": null,
   "id": "0756e6a2",
   "metadata": {},
   "outputs": [],
   "source": [
    "ohe = OneHotEncoder(handle_unknown=\"ignore\")\n",
    "preprocess = ColumnTransformer(\n",
    "    [(\"cat\", ohe, cat_cols)],\n",
    "    remainder=\"passthrough\"\n",
    ")"
   ]
  }
 ],
 "metadata": {
  "kernelspec": {
   "display_name": "env",
   "language": "python",
   "name": "python3"
  },
  "language_info": {
   "codemirror_mode": {
    "name": "ipython",
    "version": 3
   },
   "file_extension": ".py",
   "mimetype": "text/x-python",
   "name": "python",
   "nbconvert_exporter": "python",
   "pygments_lexer": "ipython3",
   "version": "3.13.1"
  }
 },
 "nbformat": 4,
 "nbformat_minor": 5
}
